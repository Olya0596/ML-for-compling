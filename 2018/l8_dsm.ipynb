{
 "cells": [
  {
   "cell_type": "code",
   "execution_count": 69,
   "metadata": {},
   "outputs": [],
   "source": [
    "path = '/ML/data/sents/'\n",
    "import glob\n",
    "lines = []\n",
    "for file in glob.glob(path+'*'):\n",
    "    lines.append(' '.join(open(file).readlines()))\n",
    "with open(path + 'all.txt', 'w+') as outfile:\n",
    "    outfile.write(' '.join(lines))"
   ]
  },
  {
   "cell_type": "code",
   "execution_count": 70,
   "metadata": {},
   "outputs": [
    {
     "name": "stdout",
     "output_type": "stream",
     "text": [
      "Building matrix from corpus with config: {'window_size': (5, 5), 'language': 'ru'}. . . . . . . . . . . . . . . . . . . . . . . . . . . . . . . . . . . . . . . . . . . . . . . . . . . . . . . . . . . . . . . . . . . . . . . . . . . . . . . . . . . . . . . . . . . . . . . . . . . . . . . . . . . . . . . . . . . . . . . . . . . . . . . . . . . . . . . . . . . . . . . . . . . . . . . . . . . . . . . . . . . . . . . . . . . . . . . . . . . . . . . . . . . . . . . . . . . . . . . . . . . . . . . . . . . . . . . . . . . . . . . . . . . . . . . . . . . . . . . . . . . . . . . . . . . . . . . . . . . . . . . . . . . . . . . . . . . . . . . . . . . . . . . . . . . . . . . . . . . . . . . . . . . . . . . . . . . . . . . . . . . . . . . . . . . . . . . . . . . . . . . . . . . . . . . . . . . . . . . . . . . . . . . . . . . . . . . . . . . . . . . . . . . . . . . . . . . . . . . . . . . . . . . . . . . . . . . . . . . . . . . . . . . . . . . . . . . . . . . . . . . . . . . . . . . . . . . . . . . . . . . . . . . . . . . . . . . . . . . . . . . . . . . . . . . . . . . . . . . . . . . . . . . . . . . . . . . . . . . . . . . . . . . . . . . . . . . . . . . . . . . . . . . . . . . . . . . . . . . . . . . . . . . . . . . . . . . . . . . . . . . . . . . . . . . . . . . . . . . . . . . . . . . . . . . . . . . . . . . . . . . . . . . . . . . . . . . . . . . . . . . . . . . . . . . . . . . . . . . . . . . . . . . . . . . . . . . . . . . . . . . . . . . . . . . . . . . . . . . . . . . . . . . . . . . . . . . . . . . . . . . . . . . . . . . . . . . . . . . . . . . . . . . . . . . . . . . . . . . . . . . . . . . . . . . . . . . . . . . . . . . . . . . . . . . . . . . . . . . . . . . . . . . . . . . . . . . . . . . . . . . . . . . . . . . . . . . . . . . . . . . . . . . . . . . . . . . . . . . . . . . . . . . . . . . . . . . . . . . . . . . . . . . . . . . . . . . . . . . . . . . . . . . . . . . . . . . . . . . . . . . . . . . . . . . . . . . . . . . . . . . . . . . . . . . . . . . . . . . . . . . . . . . . . . . . . . . . . . . . . . . . . . . . . . . . . . . . . . . . . . . . . . . . . . . . . . . . . . . . . . . . . . . . . . . . . . . . . . . . . . . . . . . . . . . . . . . . . . . . . . . . . . . . . . . . . . . . . . . . . . . . . . . . . . . . . . . . . . . . . . . . . . . . . . . . . . . . . . . . . . . . . . . . . . . . . . . . . . . . . . . . . . . . . . . . . . . . . . . . . . . . . . . . . . . . . . . . . . . . . . . . . . . . . . . . . . . . . . . . . . . . . . . . . . . . . . . . . . . . . . . . . . . . . . . . . . . . . . . . . . . . . . . . . . . . . . . . . . . . . . . . . . . . . . . . . . . . . . . . . . . . . . . . . . . . . . . . . . . . . . . . . . . . . . . . . . . . . . . . . . . . . . . . . . . . . . . . . . . . . . . . . . . . . . . . . . . . . . . . . . . . . . . . . . . . . . . . . . . . . . . . . . . . . . . . . . . . . . . . . . . . . . . . . . . . . . . . . . . . . . . . . . . . . . . . . . . . . . . . . . . . . . . . . . . . . . . . . . . . . . . . . . . . . . . . . . . . . . . . . . . . . . . . . . . . . . . . . . . . . . . . . . . . . . . . . . . . . . . . . . . . . . . . . . . . . . . . . . . . . . . . . . . . . . . . . . . . . . . . . . . . . . . . . . . . . . . . . . . . . . . . . . . . . . . . . . . . . . . . . . . . . . . . . . . . . . . . . . . . . . . . . . . . . . . . . . . . . . . . . . . . . . . . . . . . . . . . . . . . . . . . . . . . . . . . . . . . . . . . . . . . . . . . . . . . . . . . . . . . . . . . . . . . . . . . . . . . . . . . . . . . . . . . . . . . . . . . . . . . . . . . . . . . . . . . . . . . . . . . . . . . . . . . . . . . . . . . . . . . . . . . . . . . . . . . . . . . . . . . . . . . . . . . . . . . . . . . . . . . . . . . . . . . . . . . . . . . . . . . . . . . . . . . . . . . . . . . . . . . . . . . . . . . . . . . . . . . . . . . . . . . . . . . . Total time of build: 110.72 sec\n",
      "\n"
     ]
    },
    {
     "data": {
      "text/plain": [
       "CooccurrenceDSM\n",
       "Vocab size: 450133\n",
       "[438531, 438531]  наивноеа  открылок  упрыгивать  ...\n",
       "денис             0.00      0.00      0.00        ...\n",
       "рязанцев          0.00      0.00      0.00        ...\n",
       "обыкновенный      0.00      0.00      0.00        ...\n",
       "...               ...       ...       ...         ..."
      ]
     },
     "execution_count": 70,
     "metadata": {},
     "output_type": "execute_result"
    }
   ],
   "source": [
    "import pydsm\n",
    "cooc = pydsm.build(pydsm.CooccurrenceDSM, corpus=path + 'all.txt', window_size=(5,5), language='ru')\n",
    "cooc"
   ]
  },
  {
   "cell_type": "code",
   "execution_count": 74,
   "metadata": {},
   "outputs": [
    {
     "name": "stdout",
     "output_type": "stream",
     "text": [
      "Total time of nearest_neighbors: 5.42 sec\n"
     ]
    },
    {
     "data": {
      "text/plain": [
       "[438531, 1]  ленин\n",
       "ленин        1.00\n",
       "товарищ      0.67\n",
       "сталин       0.63\n",
       "памятник     0.62\n",
       "гитлер       0.60\n",
       "троцки       0.58\n",
       "россия       0.57\n",
       "народ        0.57\n",
       "таки         0.57\n",
       "гриб         0.56\n",
       "...          ..."
      ]
     },
     "execution_count": 74,
     "metadata": {},
     "output_type": "execute_result"
    }
   ],
   "source": [
    "import pydsm.similarity as similarity\n",
    "cooc.nearest_neighbors('ленин', sim_func=similarity.cos)"
   ]
  },
  {
   "cell_type": "code",
   "execution_count": 71,
   "metadata": {},
   "outputs": [
    {
     "name": "stdout",
     "output_type": "stream",
     "text": [
      "Total time of apply_weighting: 14.98 sec\n"
     ]
    },
    {
     "data": {
      "text/plain": [
       "CooccurrenceDSM\n",
       "Vocab size: 450133\n",
       "[438531, 438531]  наивноеа  открылок  упрыгивать  ...\n",
       "денис             0.00      0.00      0.00        ...\n",
       "рязанцев          0.00      0.00      0.00        ...\n",
       "обыкновенный      0.00      0.00      0.00        ...\n",
       "...               ...       ...       ...         ..."
      ]
     },
     "execution_count": 71,
     "metadata": {},
     "output_type": "execute_result"
    }
   ],
   "source": [
    "import pydsm.weighting as weighting\n",
    "ppmi = cooc.apply_weighting(weight_func=weighting.ppmi)\n",
    "ppmi"
   ]
  },
  {
   "cell_type": "code",
   "execution_count": 75,
   "metadata": {},
   "outputs": [
    {
     "name": "stdout",
     "output_type": "stream",
     "text": [
      "Total time of nearest_neighbors: 5.65 sec\n"
     ]
    },
    {
     "data": {
      "text/plain": [
       "[438531, 1]  ленин\n",
       "ленин        1.00\n",
       "сталин       0.11\n",
       "отобгать     0.11\n",
       "кагтавость   0.10\n",
       "бугжуев      0.10\n",
       "фабгика      0.10\n",
       "ильич        0.10\n",
       "большевик    0.09\n",
       "площадь      0.09\n",
       "памятник     0.09\n",
       "...          ..."
      ]
     },
     "execution_count": 75,
     "metadata": {},
     "output_type": "execute_result"
    }
   ],
   "source": [
    "ppmi.nearest_neighbors('ленин', sim_func=similarity.cos)"
   ]
  },
  {
   "cell_type": "code",
   "execution_count": 76,
   "metadata": {},
   "outputs": [],
   "source": [
    "from pydsm import IndexMatrix\n",
    "mat = ppmi.matrix\n",
    "mat_svd = ppmi.matrix.svd(300)"
   ]
  },
  {
   "cell_type": "code",
   "execution_count": 77,
   "metadata": {},
   "outputs": [
    {
     "data": {
      "text/plain": [
       "((438531, 300), (1, 300), (300, 438531))"
      ]
     },
     "execution_count": 77,
     "metadata": {},
     "output_type": "execute_result"
    }
   ],
   "source": [
    "mat_svd[0].shape, mat_svd[1].shape, mat_svd[2].shape"
   ]
  },
  {
   "cell_type": "code",
   "execution_count": 78,
   "metadata": {},
   "outputs": [
    {
     "data": {
      "text/plain": [
       "CooccurrenceDSM\n",
       "Vocab size: 450133\n",
       "[438531, 300]  299   298    297    ...\n",
       "денис          0.01  -0.00  -0.01  ...\n",
       "рязанцев       0.00  -0.00  -0.00  ...\n",
       "обыкновенный   0.01  0.00   -0.00  ...\n",
       "...            ...   ...    ...    ..."
      ]
     },
     "execution_count": 78,
     "metadata": {},
     "output_type": "execute_result"
    }
   ],
   "source": [
    "svd_ppmi = pydsm.CooccurrenceDSM()\n",
    "svd_ppmi.matrix = mat_svd[0]\n",
    "svd_ppmi.vocabulary = ppmi.vocabulary\n",
    "svd_ppmi"
   ]
  },
  {
   "cell_type": "code",
   "execution_count": 79,
   "metadata": {},
   "outputs": [
    {
     "name": "stdout",
     "output_type": "stream",
     "text": [
      "Total time of nearest_neighbors: 19.02 sec\n"
     ]
    },
    {
     "data": {
      "text/plain": [
       "[438531, 1]     ленин\n",
       "ленин           1.00\n",
       "подвоск         0.87\n",
       "сведлов         0.84\n",
       "произведний     0.84\n",
       "экзорцирование  0.77\n",
       "элияович        0.76\n",
       "порозо          0.75\n",
       "сталин          0.74\n",
       "кгом            0.74\n",
       "цытатко         0.73\n",
       "...             ..."
      ]
     },
     "execution_count": 79,
     "metadata": {},
     "output_type": "execute_result"
    }
   ],
   "source": [
    "svd_ppmi.nearest_neighbors('ленин', sim_func=similarity.cos)"
   ]
  },
  {
   "cell_type": "code",
   "execution_count": 80,
   "metadata": {},
   "outputs": [
    {
     "data": {
      "text/plain": [
       "CooccurrenceDSM\n",
       "Vocab size: 450133\n",
       "[438531, 300]  299    298    297    ...\n",
       "денис          15.50  -2.72  -5.78  ...\n",
       "рязанцев       3.39   -2.59  -1.62  ...\n",
       "обыкновенный   27.76  5.33   -2.47  ...\n",
       "...            ...    ...    ...    ..."
      ]
     },
     "execution_count": 80,
     "metadata": {},
     "output_type": "execute_result"
    }
   ],
   "source": [
    "svd_ppmi = pydsm.CooccurrenceDSM()\n",
    "svd_ppmi.matrix = mat_svd[0].multiply(mat_svd[1])\n",
    "svd_ppmi.vocabulary = ppmi.vocabulary\n",
    "svd_ppmi"
   ]
  },
  {
   "cell_type": "code",
   "execution_count": 81,
   "metadata": {},
   "outputs": [
    {
     "name": "stdout",
     "output_type": "stream",
     "text": [
      "Total time of nearest_neighbors: 11.19 sec\n"
     ]
    },
    {
     "data": {
      "text/plain": [
       "[438531, 1]  ленин\n",
       "ленин        1.00\n",
       "ильич        0.83\n",
       "сталин       0.83\n",
       "брежнев      0.82\n",
       "памятник     0.81\n",
       "хрущев       0.80\n",
       "большевик    0.80\n",
       "троцки       0.79\n",
       "троцкий      0.77\n",
       "коммунизм    0.76\n",
       "...          ..."
      ]
     },
     "execution_count": 81,
     "metadata": {},
     "output_type": "execute_result"
    }
   ],
   "source": [
    "svd_ppmi.nearest_neighbors('ленин', sim_func=similarity.cos)"
   ]
  },
  {
   "cell_type": "code",
   "execution_count": 82,
   "metadata": {},
   "outputs": [
    {
     "data": {
      "text/plain": [
       "CooccurrenceDSM\n",
       "Vocab size: 450133\n",
       "[438531, 300]  299   298    297    ...\n",
       "денис          0.29  -0.08  -0.20  ...\n",
       "рязанцев       0.06  -0.07  -0.05  ...\n",
       "обыкновенный   0.52  0.15   -0.08  ...\n",
       "...            ...   ...    ...    ..."
      ]
     },
     "execution_count": 82,
     "metadata": {},
     "output_type": "execute_result"
    }
   ],
   "source": [
    "svd_ppmi = pydsm.CooccurrenceDSM()\n",
    "svd_ppmi.matrix = mat_svd[0].multiply(mat_svd[1].sqrt())\n",
    "svd_ppmi.vocabulary = ppmi.vocabulary\n",
    "svd_ppmi"
   ]
  },
  {
   "cell_type": "code",
   "execution_count": 85,
   "metadata": {},
   "outputs": [
    {
     "name": "stdout",
     "output_type": "stream",
     "text": [
      "Total time of nearest_neighbors: 19.75 sec\n"
     ]
    },
    {
     "data": {
      "text/plain": [
       "[438531, 1]     ленин\n",
       "ленин           1.00\n",
       "подвоск         0.85\n",
       "сведлов         0.83\n",
       "произведний     0.81\n",
       "экзорцирование  0.76\n",
       "сталин          0.76\n",
       "элияович        0.76\n",
       "порозо          0.74\n",
       "ильич           0.74\n",
       "брежнев         0.73\n",
       "...             ..."
      ]
     },
     "execution_count": 85,
     "metadata": {},
     "output_type": "execute_result"
    }
   ],
   "source": [
    "svd_ppmi.nearest_neighbors('ленин', sim_func=similarity.cos)"
   ]
  },
  {
   "cell_type": "code",
   "execution_count": 83,
   "metadata": {},
   "outputs": [],
   "source": [
    "from gensim.models import *\n",
    "model = Word2Vec([line.split() for line in lines], size=300, window=5, min_count=5, workers=4)"
   ]
  },
  {
   "cell_type": "code",
   "execution_count": 84,
   "metadata": {},
   "outputs": [
    {
     "data": {
      "text/plain": [
       "[('брежнев', 0.6909336447715759),\n",
       " ('троцкий', 0.6796152591705322),\n",
       " ('берия', 0.6696934700012207),\n",
       " ('тов', 0.6655898690223694),\n",
       " ('памятник', 0.6596852540969849),\n",
       " ('троцки', 0.6567761301994324),\n",
       " ('мавзолей', 0.651995062828064),\n",
       " ('энгельс', 0.6450021266937256),\n",
       " ('ильич', 0.6365503668785095),\n",
       " ('иосиф', 0.6331793665885925)]"
      ]
     },
     "execution_count": 84,
     "metadata": {},
     "output_type": "execute_result"
    }
   ],
   "source": [
    "model.wv.most_similar('ленин')"
   ]
  },
  {
   "cell_type": "code",
   "execution_count": 86,
   "metadata": {},
   "outputs": [
    {
     "ename": "ModuleNotFoundError",
     "evalue": "No module named 'sentencepiece'",
     "output_type": "error",
     "traceback": [
      "\u001b[0;31m---------------------------------------------------------------------------\u001b[0m",
      "\u001b[0;31mModuleNotFoundError\u001b[0m                       Traceback (most recent call last)",
      "\u001b[0;32m<ipython-input-86-ad946ae2eebf>\u001b[0m in \u001b[0;36m<module>\u001b[0;34m()\u001b[0m\n\u001b[0;32m----> 1\u001b[0;31m \u001b[0;32mimport\u001b[0m \u001b[0msentencepiece\u001b[0m \u001b[0;32mas\u001b[0m \u001b[0mspm\u001b[0m\u001b[0;34m\u001b[0m\u001b[0m\n\u001b[0m",
      "\u001b[0;31mModuleNotFoundError\u001b[0m: No module named 'sentencepiece'"
     ]
    }
   ],
   "source": [
    "import sentencepiece as spm"
   ]
  },
  {
   "cell_type": "code",
   "execution_count": 88,
   "metadata": {},
   "outputs": [
    {
     "name": "stdout",
     "output_type": "stream",
     "text": [
      "Password:\n"
     ]
    }
   ],
   "source": []
  }
 ],
 "metadata": {
  "kernelspec": {
   "display_name": "Python 3",
   "language": "python",
   "name": "python3"
  },
  "language_info": {
   "codemirror_mode": {
    "name": "ipython",
    "version": 3
   },
   "file_extension": ".py",
   "mimetype": "text/x-python",
   "name": "python",
   "nbconvert_exporter": "python",
   "pygments_lexer": "ipython3",
   "version": "3.6.0"
  }
 },
 "nbformat": 4,
 "nbformat_minor": 2
}
